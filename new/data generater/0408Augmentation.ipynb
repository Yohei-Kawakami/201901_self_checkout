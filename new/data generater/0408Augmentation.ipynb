{
 "cells": [
  {
   "cell_type": "markdown",
   "metadata": {},
   "source": [
    "# 既存商品ラベル情報の入力"
   ]
  },
  {
   "cell_type": "code",
   "execution_count": null,
   "metadata": {},
   "outputs": [],
   "source": [
    "product_list = [\"pocari\", \"calpis\", \"ilohas_normal\", \"ilohas_peach\", \"tropicana\"]"
   ]
  },
  {
   "cell_type": "markdown",
   "metadata": {},
   "source": [
    "## 背景差分による画像の書き出し\n",
    "<br>\n",
    "1, input_product_movie内にラベル情報と同じ名前でmp4ファイルを保存<br>\n",
    "2, output_product_photo内にラベル情報と同じ名前で空ファイルを新規作成"
   ]
  },
  {
   "cell_type": "code",
   "execution_count": null,
   "metadata": {},
   "outputs": [],
   "source": [
    "# coding: utf-8\n",
    "import cv2\n",
    "import numpy as np\n",
    "from PIL import Image\n",
    "import matplotlib.pyplot as plt\n",
    "%matplotlib inline\n",
    "\n",
    "THRESH = 0.5 # threshold  200枚程度で調整\n",
    "\n",
    "ESC_KEY = 27     # Escキー\n",
    "INTERVAL= 1      # 待ち時間\n",
    "\n",
    "class MovieIter(object): #動画のフレームを返すイテレータ\n",
    "    def __init__(self, moviefile, size=None, inter_method=cv2.INTER_AREA):\n",
    "        #TODO: check if moviefile exists\n",
    "        self.org = cv2.VideoCapture(moviefile)\n",
    "        self.framecnt = 0\n",
    "        self.size = size #frame size\n",
    "        self.inter_method = inter_method\n",
    "    def __iter__(self):\n",
    "        return self\n",
    "    def __next__(self):\n",
    "        self.end_flg, self.frame = self.org.read()\n",
    "        if not self.end_flg: # end of the movie\n",
    "            raise StopIteration()\n",
    "        self.framecnt+=1\n",
    "        if self.size: # resize when size is specified\n",
    "            self.frame = cv2.resize(self.frame, self.size, interpolation=self.inter_method)\n",
    "        return self.frame\n",
    "    def __del__(self): # anyway it works without destructor \n",
    "        self.org.release()\n",
    "\n",
    "def MSE(pic): # mean square error\n",
    "    return np.mean(np.square(pic))\n",
    "    \n",
    "def MAE(pic): # mean absolute error\n",
    "    return np.mean(np.abs(pic))"
   ]
  },
  {
   "cell_type": "code",
   "execution_count": null,
   "metadata": {
    "scrolled": true
   },
   "outputs": [],
   "source": [
    "# coding: utf-8\n",
    "picsize = (27, 36)\n",
    "frame_ultima = np.zeros((*picsize[::-1], 3)) # create empty image\n",
    "\n",
    "frame_list = []\n",
    "for i in range(len(product_list)):\n",
    "    frame_cnt = 0 # initialize\n",
    "    save_cnt = 0 # initialize\n",
    "    INFILE = \"./input_product_movie/{}.mp4\".format(product_list[i]) # movie file\n",
    "    for frame in MovieIter(INFILE, None):\n",
    "        frame_penult = frame_ultima\n",
    "        frame_ultima = cv2.resize(frame, picsize, interpolation=cv2.INTER_AREA) #指定サイズに縮小\n",
    "\n",
    "        #差分画像作成\n",
    "        diff = frame_ultima.astype(np.int) - frame_penult.astype(np.int)\n",
    "\n",
    "        if MAE(diff)>=THRESH: #閾値よりMAEが大きい場合、カットと判定\n",
    "            print(\"Cut detected!: frame {}\".format(frame_cnt))\n",
    "            frame_r = cv2.cvtColor(frame, cv2.COLOR_BGR2RGB) # BGR -> RGB順に\n",
    "            plt.imshow(frame_r)\n",
    "            img_save = Image.fromarray(frame_r)\n",
    "            img_save.save('./output_product_photo/{}/img{}.jpg'.format(product_list[i], save_cnt))\n",
    "            \n",
    "            plt.show()\n",
    "            frame_list.append(frame_cnt/30)\n",
    "            save_cnt+=1\n",
    "\n",
    "        frame_cnt+=1\n",
    "print(len(frame_list))\n",
    "print(frame_list)"
   ]
  },
  {
   "cell_type": "code",
   "execution_count": null,
   "metadata": {},
   "outputs": [],
   "source": [
    "%time\n",
    "# import module\n",
    "from PIL import Image\n",
    "\n",
    "def expand2square(img, background_color):\n",
    "    '''\n",
    "    padding\n",
    "    \n",
    "    -----------\n",
    "    img: a image file\n",
    "    background_color: RGB 3-dimensional\n",
    "    '''\n",
    "    width, height = img.size\n",
    "    if width == height:\n",
    "        return pil_img\n",
    "    elif width > height:\n",
    "        result = Image.new(img.mode, (width, width), background_color)\n",
    "        result.paste(img, (0, (width - height) // 2))\n",
    "        return result\n",
    "    else:\n",
    "        result = Image.new(img.mode, (height, height), background_color)\n",
    "        result.paste(img, ((height - width) // 2, 0))\n",
    "        return result"
   ]
  },
  {
   "cell_type": "code",
   "execution_count": null,
   "metadata": {
    "scrolled": true
   },
   "outputs": [],
   "source": [
    "%time\n",
    "\n",
    "im = Image.open('./jpgファイル')\n",
    "# padding &  from Image to array\n",
    "im_new = expand2square(im, (0, 0, 0))\n",
    "img_resize = im_new.resize((224, 224))\n",
    "im_arr = np.asarray(img_resize)"
   ]
  },
  {
   "cell_type": "code",
   "execution_count": null,
   "metadata": {},
   "outputs": [],
   "source": [
    "im_arr.shape"
   ]
  },
  {
   "cell_type": "code",
   "execution_count": null,
   "metadata": {
    "scrolled": false
   },
   "outputs": [],
   "source": [
    "plt.imshow(im_arr)"
   ]
  },
  {
   "cell_type": "code",
   "execution_count": null,
   "metadata": {},
   "outputs": [],
   "source": [
    "# from array to image\n",
    "img2 = Image.fromarray(im_arr.astype(\"uint8\"))\n",
    "img2"
   ]
  },
  {
   "cell_type": "markdown",
   "metadata": {},
   "source": [
    "## Augmentation/水増し"
   ]
  },
  {
   "cell_type": "code",
   "execution_count": null,
   "metadata": {},
   "outputs": [],
   "source": [
    "# import os\n",
    "# from keras.preprocessing import image\n",
    "# from keras.preprocessing.image import ImageDataGenerator\n",
    "\n",
    "# for categori in product_list:\n",
    "#     cl = glob.glob(\"./output_product_photo/{}/*.*\".format(categori))\n",
    "    \n",
    "#     for i in range(len(cl)):\n",
    "#         save_path = \"./output_product_photo/{}\".format(categori)  # 保存ディレクトリのパス\n",
    "#         os.makedirs(save_path, exist_ok=True)\n",
    "#         img_path = './output_product_photo/{}/img{}.jpg'.format(categori, i)  \n",
    "\n",
    "#         # 画像ファイルをPIL形式でオープン\n",
    "#         img = image.load_img(img_path)\n",
    "#         # PIL形式をnumpyのndarray形式に変換\n",
    "#         x = image.img_to_array(img)\n",
    "#         # (height, width, 3) -> (1, height, width, 3)\n",
    "#         x = x.reshape((1,) + x.shape)\n",
    "        \n",
    "#         # 大きさ & 明度\n",
    "#         for j in range(5):\n",
    "#             zoom_size = (j+1)*0.4\n",
    "#             datagen = image.ImageDataGenerator(zoom_range=[zoom_size, zoom_size], brightness_range=[0.1, 1.3], \n",
    "#                                               fill_mode = \"constant\", cval=0)\n",
    "#             gen = datagen.flow(x, batch_size=1, save_to_dir=save_path,\n",
    "#                            save_prefix='generated', save_format='jpg')\n",
    "\n",
    "#             for _ in range(2):\n",
    "#                 # ミニバッチを生成したタイミングでディレクトリに\n",
    "#                 # 画像が保存される。\n",
    "#                 next(gen)"
   ]
  },
  {
   "cell_type": "markdown",
   "metadata": {},
   "source": [
    "# 新規商品ラベル情報の入力\n"
   ]
  },
  {
   "cell_type": "code",
   "execution_count": null,
   "metadata": {},
   "outputs": [],
   "source": [
    "new_product_list = []"
   ]
  },
  {
   "cell_type": "markdown",
   "metadata": {},
   "source": [
    "## 背景差分による画像の書き出し\n",
    "<br>\n",
    "1, input_product_movie内にラベル情報と同じ名前でmp4ファイルを保存<br>\n",
    "2, output_product_photo内にラベル情報と同じ名前で空ファイルを新規作成"
   ]
  },
  {
   "cell_type": "code",
   "execution_count": null,
   "metadata": {},
   "outputs": [],
   "source": [
    "# # coding: utf-8\n",
    "# import cv2\n",
    "# import numpy as np\n",
    "# from PIL import Image\n",
    "# import matplotlib.pyplot as plt\n",
    "# %matplotlib inline\n",
    "\n",
    "# THRESH = 3 # threshold  200枚程度で調整\n",
    "\n",
    "# ESC_KEY = 27     # Escキー\n",
    "# INTERVAL= 1      # 待ち時間\n",
    "\n",
    "# class MovieIter(object): #動画のフレームを返すイテレータ\n",
    "#     def __init__(self, moviefile, size=None, inter_method=cv2.INTER_AREA):\n",
    "#         #TODO: check if moviefile exists\n",
    "#         self.org = cv2.VideoCapture(moviefile)\n",
    "#         self.framecnt = 0\n",
    "#         self.size = size #frame size\n",
    "#         self.inter_method = inter_method\n",
    "#     def __iter__(self):\n",
    "#         return self\n",
    "#     def __next__(self):\n",
    "#         self.end_flg, self.frame = self.org.read()\n",
    "#         if not self.end_flg: # end of the movie\n",
    "#             raise StopIteration()\n",
    "#         self.framecnt+=1\n",
    "#         if self.size: # resize when size is specified\n",
    "#             self.frame = cv2.resize(self.frame, self.size, interpolation=self.inter_method)\n",
    "#         return self.frame\n",
    "#     def __del__(self): # anyway it works without destructor \n",
    "#         self.org.release()\n",
    "\n",
    "# def MSE(pic): # mean square error\n",
    "#     return np.mean(np.square(pic))\n",
    "    \n",
    "# def MAE(pic): # mean absolute error\n",
    "#     return np.mean(np.abs(pic))"
   ]
  },
  {
   "cell_type": "code",
   "execution_count": null,
   "metadata": {},
   "outputs": [],
   "source": [
    "# coding: utf-8\n",
    "\n",
    "picsize = (27, 36)\n",
    "frame_ultima = np.zeros((*picsize[::-1], 3)) # create empty image\n",
    "\n",
    "frame_list = []\n",
    "for i in range(len(product_list)):\n",
    "    frame_cnt = 0 # initialize\n",
    "    save_cnt = 0 # initialize\n",
    "    INFILE = \"./input_product_movie/new_product/{}.mp4\".format(new_product_list[i]) # movie file\n",
    "    for frame in MovieIter(INFILE, None):\n",
    "        frame_penult = frame_ultima\n",
    "        frame_ultima = cv2.resize(frame, picsize, interpolation=cv2.INTER_AREA) #指定サイズに縮小\n",
    "\n",
    "        #差分画像作成\n",
    "        diff = frame_ultima.astype(np.int) - frame_penult.astype(np.int)\n",
    "\n",
    "        if MAE(diff)>=THRESH: #閾値よりMAEが大きい場合、カットと判定\n",
    "            print(\"Cut detected!: frame {}\".format(frame_cnt))\n",
    "            frame_r = cv2.cvtColor(frame, cv2.COLOR_BGR2RGB) # BGR -> RGB順に\n",
    "            plt.imshow(frame_r)\n",
    "            img_save = Image.fromarray(frame_r)\n",
    "            img_save.save('./output_product_photo/{}/img{}.jpg'.format(new_product_list[i], save_cnt))\n",
    "            plt.show()\n",
    "            frame_list.append(frame_cnt/30)\n",
    "            save_cnt+=1\n",
    "\n",
    "        frame_cnt+=1\n",
    "print(len(frame_list))\n",
    "print(frame_list)"
   ]
  },
  {
   "cell_type": "markdown",
   "metadata": {},
   "source": [
    "## Augmentation/水増し"
   ]
  },
  {
   "cell_type": "code",
   "execution_count": null,
   "metadata": {},
   "outputs": [],
   "source": [
    "# import os\n",
    "# from keras.preprocessing import image\n",
    "# from keras.preprocessing.image import ImageDataGenerator\n",
    "\n",
    "# for categori in product_list:\n",
    "#     cl = glob.glob(\"./output_product_photo/{}/*.*\".format(categori))\n",
    "    \n",
    "#     for i in range(len(cl)):\n",
    "#         save_path = \"./output_product_photo/{}\".format(categori)  # 保存ディレクトリのパス\n",
    "#         os.makedirs(save_path, exist_ok=True)\n",
    "#         img_path = './output_product_photo/{}/img{}.jpg'.format(categori, i)  \n",
    "\n",
    "#         # 画像ファイルをPIL形式でオープン\n",
    "#         img = image.load_img(img_path)\n",
    "#         # PIL形式をnumpyのndarray形式に変換\n",
    "#         x = image.img_to_array(img)\n",
    "#         # (height, width, 3) -> (1, height, width, 3)\n",
    "#         x = x.reshape((1,) + x.shape)\n",
    "        \n",
    "# # 大きさ & 明度\n",
    "#         for j in range(5):\n",
    "#             zoom_size = (j+1)*0.4\n",
    "#             datagen = image.ImageDataGenerator(zoom_range=[zoom_size, zoom_size], brightness_range=[0.1, 1.3], \n",
    "#                                               fill_mode = \"constant\", cval=0)\n",
    "#             gen = datagen.flow(x, batch_size=1, save_to_dir=save_path,\n",
    "#                            save_prefix='generated', save_format='jpg')\n",
    "\n",
    "#             for _ in range(2):\n",
    "#                 # ミニバッチを生成したタイミングでディレクトリに\n",
    "#                 # 画像が保存される。\n",
    "#                 next(gen)"
   ]
  }
 ],
 "metadata": {
  "kernelspec": {
   "display_name": "Python 3",
   "language": "python",
   "name": "python3"
  },
  "language_info": {
   "codemirror_mode": {
    "name": "ipython",
    "version": 3
   },
   "file_extension": ".py",
   "mimetype": "text/x-python",
   "name": "python",
   "nbconvert_exporter": "python",
   "pygments_lexer": "ipython3",
   "version": "3.6.8"
  },
  "toc": {
   "base_numbering": 1,
   "nav_menu": {},
   "number_sections": true,
   "sideBar": true,
   "skip_h1_title": false,
   "title_cell": "Table of Contents",
   "title_sidebar": "Contents",
   "toc_cell": false,
   "toc_position": {},
   "toc_section_display": true,
   "toc_window_display": true
  },
  "varInspector": {
   "cols": {
    "lenName": 16,
    "lenType": 16,
    "lenVar": 40
   },
   "kernels_config": {
    "python": {
     "delete_cmd_postfix": "",
     "delete_cmd_prefix": "del ",
     "library": "var_list.py",
     "varRefreshCmd": "print(var_dic_list())"
    },
    "r": {
     "delete_cmd_postfix": ") ",
     "delete_cmd_prefix": "rm(",
     "library": "var_list.r",
     "varRefreshCmd": "cat(var_dic_list()) "
    }
   },
   "types_to_exclude": [
    "module",
    "function",
    "builtin_function_or_method",
    "instance",
    "_Feature"
   ],
   "window_display": false
  }
 },
 "nbformat": 4,
 "nbformat_minor": 2
}
