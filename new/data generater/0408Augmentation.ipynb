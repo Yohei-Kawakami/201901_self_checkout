{
 "cells": [
  {
   "cell_type": "code",
   "execution_count": 1,
   "metadata": {},
   "outputs": [],
   "source": [
    "import os\n",
    "import glob\n",
    "\n",
    "# 変更\n",
    "\n",
    "# categories = ['stil_watch', 'stil_ring', 'stil_shoes', 'stil_flowers', 'stil_food', 'view', 'face']\n",
    "categories = ['kagawa']\n",
    "for categori in categories:\n",
    "    # テキストファイルのみを取得\n",
    "    file = glob.glob(\"/Users/KawakamiYohei/Desktop/{}/*.*\".format(categori))\n",
    "\n",
    "    for i in range(len(file)):\n",
    "        # 変更前ファイル\n",
    "        path1 = file[i]\n",
    "        # 変更後ファイル\n",
    "        path2= '/Users/KawakamiYohei/Desktop/{}/cut{}.mp4'.format(categori, i)\n",
    "        # ファイル名の変更\n",
    "        os.rename(path1, path2) \n",
    "        # ファイルの存在確認 \n",
    "    #     print(os.path.exists(path2))"
   ]
  },
  {
   "cell_type": "code",
   "execution_count": 27,
   "metadata": {},
   "outputs": [],
   "source": [
    "import os\n",
    "from keras.preprocessing import image\n",
    "from keras.preprocessing.image import ImageDataGenerator\n",
    "\n",
    "# 変更\n",
    "# categories = ['stil_watch', 'stil_ring', 'stil_shoes', 'stil_flower', 'stil_food', 'view', 'face']\n",
    "# categories = ['stil_flowers']\n",
    "\n",
    "for categori in categories:\n",
    "    cl = glob.glob(\"/Users/KawakamiYohei/Desktop/{}/*.*\".format(categori))\n",
    "    \n",
    "    for i in range(len(cl)):\n",
    "        save_path = '/Users/KawakamiYohei/Desktop/{}'.format(categori)  # 保存ディレクトリのパス\n",
    "        os.makedirs(save_path, exist_ok=True)\n",
    "        img_path = '/Users/KawakamiYohei/Desktop/{}/flowers{}.jpg'.format(categori, i)  \n",
    "\n",
    "        # 画像ファイルをPIL形式でオープン\n",
    "        img = image.load_img(img_path)\n",
    "        # PIL形式をnumpyのndarray形式に変換\n",
    "        x = image.img_to_array(img)\n",
    "        # (height, width, 3) -> (1, height, width, 3)\n",
    "        x = x.reshape((1,) + x.shape)\n",
    "        \n",
    "        # 大きさ & 明度\n",
    "        datagen = image.ImageDataGenerator(zoom_range=[0.5, 2.0], brightness_range=[0.3, 1.0], \n",
    "                                          )\n",
    "#         datagen = image.ImageDataGenerator(channel_shift_range=5, brightness_range=[0.3, 1.0], vertical_flip=True, horizontal_flip=True,\n",
    "#                                           height_shift_range=0.3, width_shift_range=0.3, shear_range=5,  zoom_range=[0.5, 1.2]\n",
    "#                                           )\n",
    "\n",
    "\n",
    "        gen = datagen.flow(x, batch_size=1, save_to_dir=save_path,\n",
    "                       save_prefix='generated', save_format='jpg')\n",
    "\n",
    "        for _ in range(60):\n",
    "            # ミニバッチを生成したタイミングでディレクトリに\n",
    "            # 画像が保存される。\n",
    "            next(gen)"
   ]
  },
  {
   "cell_type": "code",
   "execution_count": null,
   "metadata": {},
   "outputs": [],
   "source": []
  }
 ],
 "metadata": {
  "kernelspec": {
   "display_name": "Python 3",
   "language": "python",
   "name": "python3"
  },
  "language_info": {
   "codemirror_mode": {
    "name": "ipython",
    "version": 3
   },
   "file_extension": ".py",
   "mimetype": "text/x-python",
   "name": "python",
   "nbconvert_exporter": "python",
   "pygments_lexer": "ipython3",
   "version": "3.6.8"
  },
  "toc": {
   "base_numbering": 1,
   "nav_menu": {},
   "number_sections": true,
   "sideBar": true,
   "skip_h1_title": false,
   "title_cell": "Table of Contents",
   "title_sidebar": "Contents",
   "toc_cell": false,
   "toc_position": {},
   "toc_section_display": true,
   "toc_window_display": false
  },
  "varInspector": {
   "cols": {
    "lenName": 16,
    "lenType": 16,
    "lenVar": 40
   },
   "kernels_config": {
    "python": {
     "delete_cmd_postfix": "",
     "delete_cmd_prefix": "del ",
     "library": "var_list.py",
     "varRefreshCmd": "print(var_dic_list())"
    },
    "r": {
     "delete_cmd_postfix": ") ",
     "delete_cmd_prefix": "rm(",
     "library": "var_list.r",
     "varRefreshCmd": "cat(var_dic_list()) "
    }
   },
   "types_to_exclude": [
    "module",
    "function",
    "builtin_function_or_method",
    "instance",
    "_Feature"
   ],
   "window_display": false
  }
 },
 "nbformat": 4,
 "nbformat_minor": 2
}
